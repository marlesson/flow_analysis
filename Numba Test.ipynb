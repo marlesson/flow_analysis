{
 "cells": [
  {
   "cell_type": "code",
   "execution_count": 5,
   "metadata": {},
   "outputs": [],
   "source": [
    "import numpy as np\n",
    "from timeit import default_timer as timer\n",
    "from numba import vectorize\n",
    "\n",
    "@vectorize([\"float32(float32, float32)\"], target='cuda')\n",
    "def VectorAdd(a, b):\n",
    "    return a + b"
   ]
  },
  {
   "cell_type": "code",
   "execution_count": 8,
   "metadata": {},
   "outputs": [
    {
     "name": "stdout",
     "output_type": "stream",
     "text": [
      "[2. 2. 2. 2. 2.]\n",
      "0.1510789373015502\n"
     ]
    }
   ],
   "source": [
    "N = 32000000\n",
    "A = np.ones(N, dtype=np.float32)\n",
    "B = np.ones(N, dtype=np.float32)\n",
    "C = np.zeros(N, dtype=np.float32)\n",
    "\n",
    "start = timer()\n",
    "C = VectorAdd(A, B)\n",
    "vectoradd_time = timer() - start\n",
    "\n",
    "print(str(C[:5]))\n",
    "print(vectoradd_time)"
   ]
  },
  {
   "cell_type": "code",
   "execution_count": null,
   "metadata": {},
   "outputs": [],
   "source": []
  }
 ],
 "metadata": {
  "kernelspec": {
   "display_name": "Python 3",
   "language": "python",
   "name": "python3"
  },
  "language_info": {
   "codemirror_mode": {
    "name": "ipython",
    "version": 3
   },
   "file_extension": ".py",
   "mimetype": "text/x-python",
   "name": "python",
   "nbconvert_exporter": "python",
   "pygments_lexer": "ipython3",
   "version": "3.6.6"
  }
 },
 "nbformat": 4,
 "nbformat_minor": 2
}
